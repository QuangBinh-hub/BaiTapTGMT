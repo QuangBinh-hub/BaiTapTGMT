{
 "cells": [
  {
   "cell_type": "code",
   "execution_count": 1,
   "id": "0f4e102a-2748-43e6-9ea7-970b55643d8b",
   "metadata": {},
   "outputs": [],
   "source": [
    "from PIL import Image\n",
    "import matplotlib.pyplot as plt"
   ]
  },
  {
   "cell_type": "code",
   "execution_count": 4,
   "id": "c755c1e1-bb4d-4832-b39d-2f350ad6d16e",
   "metadata": {},
   "outputs": [],
   "source": [
    "#đường dẫn ảnh\n",
    "my_path='D:/TKWeb/6_TranQuangBinh_21DTH2_Buoi7/Image/2.jpg'"
   ]
  },
  {
   "cell_type": "code",
   "execution_count": 12,
   "id": "7b679ec3-eb9d-445a-a275-e26f785f0fb5",
   "metadata": {},
   "outputs": [
    {
     "name": "stdout",
     "output_type": "stream",
     "text": [
      "[(1388.461290322581, 592.5548387096778), (1388.461290322581, 592.5548387096778), (1031.067741935484, 2095.232258064516), (1031.067741935484, 2095.232258064516), (3354.1258064516132, 1640.367741935484)]\n"
     ]
    }
   ],
   "source": [
    "#đọc ảnh\n",
    "im=Image.open(my_path)\n",
    "#Chuyển đổi backend\n",
    "plt.switch_backend(\"tkagg\")\n",
    "\n",
    "#hien anh\n",
    "plt.imshow(im)\n",
    "plt.title(\"Click on the image to select points\")\n",
    "\n",
    "#su dung ham ginput() de chon diem tren anh\n",
    "points = plt.ginput(5)\n",
    "\n",
    "print(points)\n",
    "\n",
    "plt.show()"
   ]
  },
  {
   "cell_type": "code",
   "execution_count": 16,
   "id": "894022f5-0ca5-4518-8b94-8973397f3bd0",
   "metadata": {},
   "outputs": [],
   "source": [
    "#ve lai cac diem da chon bang dau * mau do\n",
    "plt.close()\n",
    "\n",
    "#velai\n",
    "plt.imshow(im)\n",
    "for point in points:\n",
    "    x,y =point\n",
    "    plt.plot(x,y,'r*')\n",
    "\n",
    "plt.show()"
   ]
  },
  {
   "cell_type": "code",
   "execution_count": null,
   "id": "4520902b-8507-44f0-8742-807c0a106705",
   "metadata": {},
   "outputs": [],
   "source": []
  }
 ],
 "metadata": {
  "kernelspec": {
   "display_name": "Python 3 (ipykernel)",
   "language": "python",
   "name": "python3"
  },
  "language_info": {
   "codemirror_mode": {
    "name": "ipython",
    "version": 3
   },
   "file_extension": ".py",
   "mimetype": "text/x-python",
   "name": "python",
   "nbconvert_exporter": "python",
   "pygments_lexer": "ipython3",
   "version": "3.12.4"
  }
 },
 "nbformat": 4,
 "nbformat_minor": 5
}
