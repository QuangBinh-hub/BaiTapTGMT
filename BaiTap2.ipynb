{
 "cells": [
  {
   "cell_type": "code",
   "execution_count": 2,
   "id": "bab6e9f6-4a87-41a9-b89b-6a3a5159ed9f",
   "metadata": {},
   "outputs": [],
   "source": [
    "from PIL import Image\n",
    "from img import *\n",
    "from IPython.display import display # to display images"
   ]
  },
  {
   "cell_type": "code",
   "execution_count": 4,
   "id": "2c4cb469-0f04-442c-9d05-d83b6a4437cc",
   "metadata": {},
   "outputs": [
    {
     "name": "stdout",
     "output_type": "stream",
     "text": [
      "C:\\Users\\admin\\BtThiGiacMT\n"
     ]
    }
   ],
   "source": [
    "import os\n",
    "print(os.getcwd())\n",
    "directory= 'D:/TKWeb/6_TranQuangBinh_21DTH2_Buoi7/Image'"
   ]
  },
  {
   "cell_type": "code",
   "execution_count": 6,
   "id": "2b23b662-9138-4911-be6f-f6ab853e5d9c",
   "metadata": {},
   "outputs": [],
   "source": [
    "imgs =  get_image_list(directory)"
   ]
  },
  {
   "cell_type": "code",
   "execution_count": null,
   "id": "db2892da-c9d3-437a-8966-221d3d55e6aa",
   "metadata": {},
   "outputs": [],
   "source": [
    "for img in imgs:\n",
    "    print(img.size)\n",
    "    display(img)"
   ]
  }
 ],
 "metadata": {
  "kernelspec": {
   "display_name": "Python 3 (ipykernel)",
   "language": "python",
   "name": "python3"
  },
  "language_info": {
   "codemirror_mode": {
    "name": "ipython",
    "version": 3
   },
   "file_extension": ".py",
   "mimetype": "text/x-python",
   "name": "python",
   "nbconvert_exporter": "python",
   "pygments_lexer": "ipython3",
   "version": "3.12.4"
  }
 },
 "nbformat": 4,
 "nbformat_minor": 5
}
