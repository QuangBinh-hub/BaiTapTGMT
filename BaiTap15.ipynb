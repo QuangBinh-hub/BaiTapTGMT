{
 "cells": [
  {
   "cell_type": "code",
   "execution_count": 5,
   "id": "c3de46d5-fb00-4d37-b25a-871718a789bb",
   "metadata": {},
   "outputs": [
    {
     "name": "stdout",
     "output_type": "stream",
     "text": [
      "Defaulting to user installation because normal site-packages is not writeable\n",
      "Requirement already satisfied: scipy in c:\\programdata\\anaconda3\\lib\\site-packages (1.13.1)\n",
      "Requirement already satisfied: numpy<2.3,>=1.22.4 in c:\\programdata\\anaconda3\\lib\\site-packages (from scipy) (1.26.4)\n"
     ]
    }
   ],
   "source": [
    "!pip install scipy"
   ]
  },
  {
   "cell_type": "code",
   "execution_count": 7,
   "id": "230ef7a8-39f3-402a-bcd6-63e6f285452d",
   "metadata": {},
   "outputs": [],
   "source": [
    "from scipy import linalg\n",
    "import numpy as np"
   ]
  },
  {
   "cell_type": "code",
   "execution_count": 9,
   "id": "2d56eef5-51f0-41c9-8172-fee79879053e",
   "metadata": {},
   "outputs": [
    {
     "name": "stdout",
     "output_type": "stream",
     "text": [
      "Kết quả:  [ 3. -1.]\n"
     ]
    }
   ],
   "source": [
    "A = np.array([[2,1],[3,2]])\n",
    "b = np.array([5,7])\n",
    "\n",
    "#giả phương trình\n",
    "x= linalg.solve(A,b)\n",
    "print(\"Kết quả: \",x)"
   ]
  },
  {
   "cell_type": "code",
   "execution_count": 15,
   "id": "b7b8b201-4d0b-4a24-a9ed-9654bebc04ef",
   "metadata": {},
   "outputs": [
    {
     "name": "stdout",
     "output_type": "stream",
     "text": [
      "tích phân f(x) từ 0 tới 1:  (31.5, 3.497202527569243e-13)\n"
     ]
    }
   ],
   "source": [
    "#tính tích phan của hàm số\n",
    "from scipy import integrate\n",
    "#định nghĩa\n",
    "def my_function(x):\n",
    "    return x**2+x+1;\n",
    "\n",
    "#tích phân\n",
    "integral = integrate.quad(my_function,1,4);\n",
    "print(\"tích phân f(x) từ 0 tới 1: \", integral)"
   ]
  },
  {
   "cell_type": "code",
   "execution_count": 19,
   "id": "a171df69-b4d7-428a-ae25-3b12a002e60a",
   "metadata": {},
   "outputs": [
    {
     "name": "stdout",
     "output_type": "stream",
     "text": [
      "Giá trị riêng:  [3.73205081+0.j 0.26794919+0.j]\n",
      "Vecto riêng:  [[ 0.5       -0.5      ]\n",
      " [ 0.8660254  0.8660254]]\n"
     ]
    }
   ],
   "source": [
    "from scipy import linalg\n",
    "import numpy as np\n",
    "\n",
    "#tính giá trị và vecto riêng của ma trận\n",
    "A= np.array([[2,1],[3,2]])\n",
    "\n",
    "#tính giá trị riêng và vecto riêng\n",
    "evals, evecs = linalg.eig(A)\n",
    "print(\"Giá trị riêng: \",evals)\n",
    "print(\"Vecto riêng: \",evecs)"
   ]
  },
  {
   "cell_type": "code",
   "execution_count": null,
   "id": "bf6613f9-6320-40ba-9254-e880844218f8",
   "metadata": {},
   "outputs": [],
   "source": []
  }
 ],
 "metadata": {
  "kernelspec": {
   "display_name": "Python 3 (ipykernel)",
   "language": "python",
   "name": "python3"
  },
  "language_info": {
   "codemirror_mode": {
    "name": "ipython",
    "version": 3
   },
   "file_extension": ".py",
   "mimetype": "text/x-python",
   "name": "python",
   "nbconvert_exporter": "python",
   "pygments_lexer": "ipython3",
   "version": "3.12.4"
  }
 },
 "nbformat": 4,
 "nbformat_minor": 5
}
